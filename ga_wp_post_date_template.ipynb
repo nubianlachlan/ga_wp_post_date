{
 "cells": [
  {
   "cell_type": "code",
   "execution_count": 1,
   "metadata": {},
   "outputs": [],
   "source": [
    "# First let's import our libraries\n",
    "from apiclient.discovery import build\n",
    "from oauth2client.service_account import ServiceAccountCredentials\n",
    "import pandas as pd\n",
    "import urllib.parse #TO PARSE PASSWORD FOR SQL CONNECTION\n",
    "\n",
    "# To use dotenv\n",
    "%load_ext dotenv\n",
    "# To search for the dotenv file (.env) which contains the credentials\n",
    "%dotenv\n",
    "\n",
    "# Load in GA credentials from the dotenv file\n",
    "SCOPES = ['https://www.googleapis.com/auth/analytics.readonly']\n",
    "KEY_FILE_LOCATION = %env GA_KEY\n",
    "VIEW_ID = %env GA_VIEW_ID\n",
    "\n",
    "# Set up GA connection\n",
    "def initialize_analyticsreporting():\n",
    "  \n",
    "    credentials = ServiceAccountCredentials.from_json_keyfile_name(KEY_FILE_LOCATION, SCOPES)\n",
    "    analytics = build('analyticsreporting', 'v4', credentials=credentials)\n",
    "    return analytics\n",
    "\n",
    "# Query GA API\n",
    "def get_report(analytics, date, metrics, dimension, filters=''):\n",
    "\n",
    "    return analytics.reports().batchGet(\n",
    "        body={\n",
    "            'reportRequests': [\n",
    "                {\n",
    "                    'viewId': VIEW_ID,\n",
    "                    'dateRanges': [date],\n",
    "                    'metrics': metrics,\n",
    "                    'dimensions': [{'name': dimension}],\n",
    "                    'filtersExpression': filters,\n",
    "                    'pageSize': 10000\n",
    "                }]\n",
    "        }\n",
    "    ).execute()\n",
    "\n",
    "# Parse the data and save it do a dataframe\n",
    "def to_dataframe(response):\n",
    "  \n",
    "    # extract Data\n",
    "    for report in response.get('reports', []):\n",
    "\n",
    "        columnHeader = report.get('columnHeader', {})\n",
    "        dimensionHeader = columnHeader.get('dimensions', [])\n",
    "        metricHeaders = columnHeader.get('metricHeader', {}).get('metricHeaderEntries', [])\n",
    "        rows = report.get('data', {}).get('rows', [])\n",
    "\n",
    "        df_columns = dimensionHeader + [head['name'] for head in metricHeaders]\n",
    "        df_rows = []\n",
    "        \n",
    "        for row in rows:\n",
    "            dimension = row.get('dimensions', [])\n",
    "            dateRangeValues = row.get('metrics', [])[0].get('values', [])\n",
    "            \n",
    "            df_row = dimension + [int(value) for value in dateRangeValues]\n",
    "            df_rows.append(df_row)\n",
    "            \n",
    "    return pd.DataFrame(df_rows, columns = df_columns)"
   ]
  },
  {
   "cell_type": "code",
   "execution_count": null,
   "metadata": {},
   "outputs": [],
   "source": [
    "# To use sql magic\n",
    "%load_ext sql\n",
    "\n",
    "# Get CMS database credentials from .env file\n",
    "db_password = %env DB_PASSWORD\n",
    "db_user = %env DB_USER\n",
    "db_host = %env DB_HOST\n",
    "db_wp_database = %env DB_WP_DATABASE\n",
    "\n",
    "# Converts sql password\n",
    "password = urllib.parse.quote_plus(db_password)\n",
    "# Connection string\n",
    "connection =f'mysql+pymysql://{db_user}:{password}@{db_host}/{db_wp_database}'\n",
    "# Connect, note, the dollar sign needs to be used\n",
    "%sql $connection\n",
    "\n",
    "# Query the WP database\n",
    "sql_result = %sql SELECT post_date, post_name, post_title, post_type FROM wordpress.wp_posts WHERE post_status = 'publish';\n",
    "\n",
    "# Convert into pandas dataframe\n",
    "wp_df = sql_result.DataFrame()"
   ]
  },
  {
   "cell_type": "code",
   "execution_count": 9,
   "metadata": {},
   "outputs": [],
   "source": [
    "date = {'startDate': '2020-01-01', 'endDate': 'today'}\n",
    "metrics = [{'expression': 'ga:pageviews'}]\n",
    "dimension = 'ga:pagePath'\n",
    "filters = 'ga:pagePath!~preview'\n",
    "\n",
    "analytics = initialize_analyticsreporting()\n",
    "response = get_report(analytics, date, metrics, dimension, filters)\n",
    "ga_df = to_dataframe(response)"
   ]
  },
  {
   "cell_type": "code",
   "execution_count": 13,
   "metadata": {},
   "outputs": [],
   "source": [
    "def clean_pagepath(df):\n",
    "    \n",
    "    # add a new column containing the post_name extracted from the path\n",
    "    df['post_name'] = df.apply(lambda row: urllib.parse.urlparse(row['ga:pagePath']).path.rsplit('/')[-2], axis = 1)\n",
    "    \n",
    "    # Rename empyt strings to home\n",
    "    df['post_name'].replace('', 'home', inplace=True)\n",
    "    \n",
    "    # group post_names and sum metrics to get final count\n",
    "    cleaned_df = df.groupby('post_name')['ga:pageviews'].sum()\n",
    "    \n",
    "    return cleaned_df"
   ]
  },
  {
   "cell_type": "code",
   "execution_count": 14,
   "metadata": {},
   "outputs": [],
   "source": [
    "def merge_ga_wp(ga_df, wp_df):\n",
    "    \n",
    "    # merge dataframes\n",
    "    merged_df = pd.merge(ga_df, wp_df, on='post_name', how='inner')\n",
    "    \n",
    "    return merged_df"
   ]
  },
  {
   "cell_type": "code",
   "execution_count": null,
   "metadata": {},
   "outputs": [],
   "source": [
    "ga_cleaned_df = clean_pagepath(ga_df)\n",
    "final_df = merge_ga_wp(ga_cleaned_df, wp_df)\n",
    "final_df.sort_values('ga:pageviews', ascending=False).head()"
   ]
  },
  {
   "cell_type": "code",
   "execution_count": 21,
   "metadata": {},
   "outputs": [],
   "source": [
    "filtered_df = final_df[final_df.post_date.dt.year == 2020] \\\n",
    ".sort_values('ga:pageviews', ascending=False)"
   ]
  },
  {
   "cell_type": "code",
   "execution_count": null,
   "metadata": {},
   "outputs": [],
   "source": [
    "filtered_df.head(10)"
   ]
  }
 ],
 "metadata": {
  "kernelspec": {
   "display_name": "Python 3",
   "language": "python",
   "name": "python3"
  },
  "language_info": {
   "codemirror_mode": {
    "name": "ipython",
    "version": 3
   },
   "file_extension": ".py",
   "mimetype": "text/x-python",
   "name": "python",
   "nbconvert_exporter": "python",
   "pygments_lexer": "ipython3",
   "version": "3.7.6"
  }
 },
 "nbformat": 4,
 "nbformat_minor": 4
}
